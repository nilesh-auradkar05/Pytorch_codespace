{
  "cells": [
    {
      "cell_type": "markdown",
      "metadata": {
        "id": "AzDBM_v4iMe7"
      },
      "source": [
        "# 00. PyTorch Fundamentals Exercises\n",
        "\n",
        "### 1. Documentation reading \n",
        "\n",
        "A big part of deep learning (and learning to code in general) is getting familiar with the documentation of a certain framework you're using. We'll be using the PyTorch documentation a lot throughout the rest of this course. So I'd recommend spending 10-minutes reading the following (it's okay if you don't get some things for now, the focus is not yet full understanding, it's awareness):\n",
        "  * The documentation on [`torch.Tensor`](https://pytorch.org/docs/stable/tensors.html#torch-tensor).\n",
        "  * The documentation on [`torch.cuda`](https://pytorch.org/docs/master/notes/cuda.html#cuda-semantics).\n",
        "\n"
      ]
    },
    {
      "cell_type": "code",
      "execution_count": 1,
      "metadata": {
        "id": "bGD0oD8Kizak"
      },
      "outputs": [],
      "source": [
        "# No code solution (reading)"
      ]
    },
    {
      "cell_type": "markdown",
      "metadata": {
        "id": "__iXqqz-ioUJ"
      },
      "source": [
        "### 2. Create a random tensor with shape `(7, 7)`.\n"
      ]
    },
    {
      "cell_type": "code",
      "execution_count": 1,
      "metadata": {
        "id": "6pUq9Dc8i2L7"
      },
      "outputs": [
        {
          "data": {
            "text/plain": [
              "(tensor([[0.5391, 0.0586, 0.8633, 0.9219, 0.1055, 0.2031, 0.7305],\n",
              "         [0.1719, 0.1484, 0.2500, 0.5781, 0.2266, 0.4883, 0.1055],\n",
              "         [0.2539, 0.2305, 0.0039, 0.7227, 0.9609, 0.0547, 0.1055],\n",
              "         [0.4023, 0.4336, 0.1875, 0.9727, 0.1719, 0.3750, 0.4844],\n",
              "         [0.5742, 0.0391, 0.2578, 0.5898, 0.1719, 0.5977, 0.9453],\n",
              "         [0.0703, 0.1602, 0.3984, 0.7930, 0.7305, 0.7969, 0.2891],\n",
              "         [0.3789, 0.7344, 0.6641, 0.6992, 0.7773, 0.9727, 0.8789]],\n",
              "        dtype=torch.bfloat16),\n",
              " torch.Size([7, 7]))"
            ]
          },
          "execution_count": 1,
          "metadata": {},
          "output_type": "execute_result"
        }
      ],
      "source": [
        "# Import torch\n",
        "import torch\n",
        "\n",
        "# Create random tensor\n",
        "TENSOR_1 = torch.rand(7, 7, dtype=torch.bfloat16)\n",
        "TENSOR_1, TENSOR_1.shape"
      ]
    },
    {
      "cell_type": "markdown",
      "metadata": {
        "id": "9-XxvRLfiqkR"
      },
      "source": [
        "### 3. Perform a matrix multiplication on the tensor from 2 with another random tensor with shape `(1, 7)` (hint: you may have to transpose the second tensor)."
      ]
    },
    {
      "cell_type": "code",
      "execution_count": 2,
      "metadata": {
        "id": "NcLqR0Sbi_vT"
      },
      "outputs": [
        {
          "data": {
            "text/plain": [
              "tensor([[1.2891],\n",
              "        [0.7773],\n",
              "        [0.9023],\n",
              "        [1.0938],\n",
              "        [0.7852],\n",
              "        [1.2344],\n",
              "        [1.6328]], dtype=torch.bfloat16)"
            ]
          },
          "execution_count": 2,
          "metadata": {},
          "output_type": "execute_result"
        }
      ],
      "source": [
        "# Create another random tensor\n",
        "RANDOM_TENSOR = torch.rand(1, 7, dtype=torch.bfloat16)\n",
        "# Perform matrix multiplication \n",
        "TENSOR_1.matmul(RANDOM_TENSOR.T)"
      ]
    },
    {
      "cell_type": "markdown",
      "metadata": {
        "id": "eiutdKUFiryU"
      },
      "source": [
        "### 4. Set the random seed to `0` and do 2 & 3 over again.\n",
        "\n",
        "The output should be:\n",
        "```\n",
        "(tensor([[1.8542],\n",
        "         [1.9611],\n",
        "         [2.2884],\n",
        "         [3.0481],\n",
        "         [1.7067],\n",
        "         [2.5290],\n",
        "         [1.7989]]), torch.Size([7, 1]))\n",
        "```"
      ]
    },
    {
      "cell_type": "code",
      "execution_count": 8,
      "metadata": {
        "id": "D-lOWI_1jRMm"
      },
      "outputs": [
        {
          "name": "stdout",
          "output_type": "stream",
          "text": [
            "tensor([[0.6719, 0.1836, 0.4570, 0.7500, 0.2617, 0.9805, 0.7617],\n",
            "        [0.4023, 0.0352, 0.8242, 0.0820, 0.9453, 0.1406, 0.3398],\n",
            "        [0.2734, 0.8438, 0.3438, 0.5469, 0.2266, 0.7539, 0.8984],\n",
            "        [0.1523, 0.3398, 0.6797, 0.3438, 0.3164, 0.6445, 0.0977],\n",
            "        [0.3008, 0.2812, 0.0352, 0.5781, 0.4492, 0.8125, 0.9492],\n",
            "        [0.7695, 0.9922, 0.3086, 0.6836, 0.7500, 0.3203, 0.3867],\n",
            "        [0.8438, 0.6914, 0.9492, 0.1133, 0.5742, 0.5742, 0.5547]],\n",
            "       dtype=torch.bfloat16) \n",
            " tensor([[0.6523, 0.1250, 0.7539, 0.0352, 0.7227, 0.4961, 0.1250]],\n",
            "       dtype=torch.bfloat16)\n"
          ]
        },
        {
          "data": {
            "text/plain": [
              "tensor([[1.6016],\n",
              "        [1.6875],\n",
              "        [1.2109],\n",
              "        [1.2266],\n",
              "        [1.1250],\n",
              "        [1.6328],\n",
              "        [2.1250]], dtype=torch.bfloat16)"
            ]
          },
          "execution_count": 8,
          "metadata": {},
          "output_type": "execute_result"
        }
      ],
      "source": [
        "# Set manual seed\n",
        "torch.manual_seed(0)\n",
        "\n",
        "# Create two random tensors\n",
        "RANDOM_TENSOR_1 = torch.rand(7, 7, dtype=torch.bfloat16)\n",
        "RANDOM_TENSOR_2 = torch.rand(1, 7, dtype=torch.bfloat16)\n",
        "\n",
        "print(RANDOM_TENSOR_1, \"\\n\", RANDOM_TENSOR_2)\n",
        "\n",
        "# Matrix multiply tensors\n",
        "RANDOM_TENSOR_1.matmul(RANDOM_TENSOR_2.T)"
      ]
    },
    {
      "cell_type": "markdown",
      "metadata": {
        "id": "ezY6ks9Cis37"
      },
      "source": [
        "### 5. Speaking of random seeds, we saw how to set it with `torch.manual_seed()` but is there a GPU equivalent? (hint: you'll need to look into the documentation for `torch.cuda` for this one)\n",
        "  * If there is, set the GPU random seed to `1234`."
      ]
    },
    {
      "cell_type": "code",
      "execution_count": 9,
      "metadata": {},
      "outputs": [],
      "source": [
        "torch.cuda.manual_seed(1234)"
      ]
    },
    {
      "cell_type": "markdown",
      "metadata": {
        "id": "Ir9qSaj6it4n"
      },
      "source": [
        "\n",
        "### 6. Create two random tensors of shape `(2, 3)` and send them both to the GPU (you'll need access to a GPU for this). Set `torch.manual_seed(1234)` when creating the tensors (this doesn't have to be the GPU random seed). The output should be something like:\n",
        "\n",
        "```\n",
        "Device: cuda\n",
        "(tensor([[0.0290, 0.4019, 0.2598],\n",
        "         [0.3666, 0.0583, 0.7006]], device='cuda:0'),\n",
        " tensor([[0.0518, 0.4681, 0.6738],\n",
        "         [0.3315, 0.7837, 0.5631]], device='cuda:0'))\n",
        "```"
      ]
    },
    {
      "cell_type": "code",
      "execution_count": 11,
      "metadata": {
        "id": "azXExiFZj5nm"
      },
      "outputs": [
        {
          "name": "stdout",
          "output_type": "stream",
          "text": [
            "Device: cuda\n",
            "tensor([[0.1270, 0.8164, 0.5430],\n",
            "        [0.6602, 0.2715, 0.9727]], device='cuda:0', dtype=torch.bfloat16)\n",
            "tensor([[0.6211, 0.0276, 0.3262],\n",
            "        [0.1113, 0.6797, 0.3613]], device='cuda:0', dtype=torch.bfloat16)\n"
          ]
        }
      ],
      "source": [
        "# Set random seed\n",
        "torch.cuda.manual_seed(1234)\n",
        "\n",
        "# Check for access to GPU\n",
        "device = torch.device(\"cuda\") if torch.cuda.is_available() else torch.device(\"cpu\")\n",
        "\n",
        "# Create two random tensors on GPU\n",
        "RANDOM_TENSOR_3 = torch.rand(2, 3, dtype=torch.bfloat16, device=device)\n",
        "RANDOM_TENSOR_4 = torch.rand(2, 3, dtype=torch.bfloat16, device=device)\n",
        "\n",
        "print(f\"Device: {device}\\n{RANDOM_TENSOR_3}\\n{RANDOM_TENSOR_4}\")"
      ]
    },
    {
      "cell_type": "markdown",
      "metadata": {
        "id": "5TlAxeiSiu1y"
      },
      "source": [
        "\n",
        "### 7. Perform a matrix multiplication on the tensors you created in 6 (again, you may have to adjust the shapes of one of the tensors).\n",
        "\n",
        "The output should look like:\n",
        "```\n",
        "(tensor([[0.3647, 0.4709],\n",
        "         [0.5184, 0.5617]], device='cuda:0'), torch.Size([2, 2]))\n",
        "```"
      ]
    },
    {
      "cell_type": "code",
      "execution_count": 14,
      "metadata": {
        "id": "fAeG7ox0lHEO"
      },
      "outputs": [
        {
          "data": {
            "text/plain": [
              "(tensor([[0.2793, 0.7656],\n",
              "         [0.7344, 0.6094]], device='cuda:0', dtype=torch.bfloat16),\n",
              " torch.Size([2, 2]))"
            ]
          },
          "execution_count": 14,
          "metadata": {},
          "output_type": "execute_result"
        }
      ],
      "source": [
        "# Perform matmul on tensor_A and tensor_B\n",
        "matmul_result = RANDOM_TENSOR_3.matmul(RANDOM_TENSOR_4.T)\n",
        "matmul_result, matmul_result.shape"
      ]
    },
    {
      "cell_type": "markdown",
      "metadata": {
        "id": "G7qfa5CSivwg"
      },
      "source": [
        "### 8. Find the maximum and minimum values of the output of 7."
      ]
    },
    {
      "cell_type": "code",
      "execution_count": 18,
      "metadata": {
        "id": "Fu8_3mZpllOd"
      },
      "outputs": [
        {
          "name": "stdout",
          "output_type": "stream",
          "text": [
            "tensor(0.7656, device='cuda:0', dtype=torch.bfloat16)\n",
            "tensor(0.2793, device='cuda:0', dtype=torch.bfloat16)\n"
          ]
        }
      ],
      "source": [
        "# Find max\n",
        "print(matmul_result.max())\n",
        "# Find min\n",
        "print(matmul_result.min())"
      ]
    },
    {
      "cell_type": "markdown",
      "metadata": {
        "id": "wrTj5FgNiw47"
      },
      "source": [
        "### 9. Find the maximum and minimum index values of the output of 7."
      ]
    },
    {
      "cell_type": "code",
      "execution_count": 17,
      "metadata": {
        "id": "CCEKt4K2lsfQ"
      },
      "outputs": [
        {
          "name": "stdout",
          "output_type": "stream",
          "text": [
            "tensor(1, device='cuda:0')\n",
            "tensor(0, device='cuda:0')\n"
          ]
        }
      ],
      "source": [
        "# Find arg max\n",
        "print(matmul_result.argmax())\n",
        "\n",
        "# Find arg min\n",
        "print(matmul_result.argmin())"
      ]
    },
    {
      "cell_type": "markdown",
      "metadata": {
        "id": "hmeybz4uixy7"
      },
      "source": [
        "\n",
        "### 10. Make a random tensor with shape `(1, 1, 1, 10)` and then create a new tensor with all the `1` dimensions removed to be left with a tensor of shape `(10)`. Set the seed to `7` when you create it and print out the first tensor and it's shape as well as the second tensor and it's shape.\n",
        "\n",
        "The output should look like:\n",
        "\n",
        "```\n",
        "tensor([[[[0.5349, 0.1988, 0.6592, 0.6569, 0.2328, 0.4251, 0.2071, 0.6297,\n",
        "           0.3653, 0.8513]]]]) torch.Size([1, 1, 1, 10])\n",
        "tensor([0.5349, 0.1988, 0.6592, 0.6569, 0.2328, 0.4251, 0.2071, 0.6297, 0.3653,\n",
        "        0.8513]) torch.Size([10])\n",
        "```"
      ]
    },
    {
      "cell_type": "code",
      "execution_count": 19,
      "metadata": {
        "id": "TQ9zbRzVl1jV"
      },
      "outputs": [
        {
          "name": "stdout",
          "output_type": "stream",
          "text": [
            "Initial Tensor: \n",
            "tensor([[[[0.9531, 0.4941, 0.9414, 0.5938, 0.6992, 0.2090, 0.6758, 0.4805,\n",
            "           0.6328, 0.5742]]]], device='cuda:0', dtype=torch.bfloat16)\n",
            "\n",
            "Squeezed Tensor: \n",
            "tensor([0.9531, 0.4941, 0.9414, 0.5938, 0.6992, 0.2090, 0.6758, 0.4805, 0.6328,\n",
            "        0.5742], device='cuda:0', dtype=torch.bfloat16)\n",
            "\n"
          ]
        }
      ],
      "source": [
        "# Set seed\n",
        "torch.cuda.manual_seed(7)\n",
        "\n",
        "# Create random tensor\n",
        "RANDOM_TENSOR_5 = torch.rand(size=(1, 1, 1, 10), dtype=torch.bfloat16, device=device)\n",
        "print(f\"Initial Tensor: \\n{RANDOM_TENSOR_5}\\n\")\n",
        "# Remove single dimensions\n",
        "squeezed_tensor = RANDOM_TENSOR_5.squeeze()\n",
        "\n",
        "# Print out tensors and their shapes\n",
        "print(f\"Squeezed Tensor: \\n{squeezed_tensor}\\n\")"
      ]
    },
    {
      "cell_type": "code",
      "execution_count": null,
      "metadata": {},
      "outputs": [],
      "source": []
    }
  ],
  "metadata": {
    "accelerator": "GPU",
    "colab": {
      "collapsed_sections": [],
      "name": "00_pytorch_fundamentals_exercises.ipynb",
      "provenance": []
    },
    "kernelspec": {
      "display_name": "Python 3",
      "name": "python3"
    },
    "language_info": {
      "codemirror_mode": {
        "name": "ipython",
        "version": 3
      },
      "file_extension": ".py",
      "mimetype": "text/x-python",
      "name": "python",
      "nbconvert_exporter": "python",
      "pygments_lexer": "ipython3",
      "version": "3.12.7"
    }
  },
  "nbformat": 4,
  "nbformat_minor": 0
}
